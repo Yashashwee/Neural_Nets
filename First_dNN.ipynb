{
  "nbformat": 4,
  "nbformat_minor": 0,
  "metadata": {
    "colab": {
      "name": "First_dNN.ipynb",
      "version": "0.3.2",
      "provenance": [],
      "collapsed_sections": [],
      "include_colab_link": true
    },
    "kernelspec": {
      "name": "python3",
      "display_name": "Python 3"
    }
  },
  "cells": [
    {
      "cell_type": "markdown",
      "metadata": {
        "id": "view-in-github",
        "colab_type": "text"
      },
      "source": [
        "<a href=\"https://colab.research.google.com/github/Yashashwee/Neural_Nets/blob/master/First_dNN.ipynb\" target=\"_parent\"><img src=\"https://colab.research.google.com/assets/colab-badge.svg\" alt=\"Open In Colab\"/></a>"
      ]
    },
    {
      "cell_type": "code",
      "metadata": {
        "id": "nZVnUk0KZdtl",
        "colab_type": "code",
        "colab": {}
      },
      "source": [
        "import tensorflow as tf\n",
        "import numpy as np\n",
        "\n",
        "\n",
        "#First we define the no of nodes in each layer\n",
        "n_inputs = 28*28\n",
        "n_hidden1 = 300\n",
        "n_hidden2 = 100\n",
        "n_output = 10\n",
        "\n",
        "X = tf.placeholder(tf.float32, shape = (None, n_inputs), name=\"X\")\n",
        "y = tf.placeholder(tf.int32, shape = (None), name=\"y\")\n"
      ],
      "execution_count": 0,
      "outputs": []
    },
    {
      "cell_type": "code",
      "metadata": {
        "id": "0lEe5Kc1apUX",
        "colab_type": "code",
        "colab": {}
      },
      "source": [
        "#The prototype for each of the neurons takes the inputs,he no of neurons and the activation function which is by default none\n",
        "def neuron_layer(X, n_neurons, name, activation=None):\n",
        "  with tf.name_scope(name):\n",
        "    n_inputs = int(X.get_shape()[1])\n",
        "    stddev = 2 / np.sqrt(n_inputs)\n",
        "    init = tf.truncated_normal((n_inputs, n_neurons), stddev=stddev)\n",
        "    W = tf.Variable(init, name=\"kernel\")\n",
        "    b = tf.Variable(tf.zeros([n_neurons]), name=\"bias\")\n",
        "    Z = tf.matmul(X, W) + b\n",
        "    if activation is not None:\n",
        "      return activation(Z)\n",
        "    else:\n",
        "      return Z"
      ],
      "execution_count": 0,
      "outputs": []
    },
    {
      "cell_type": "code",
      "metadata": {
        "id": "0nXZM0PAdHXd",
        "colab_type": "code",
        "colab": {}
      },
      "source": [
        "with tf.name_scope(\"dnn\"):\n",
        "  hidden1 = neuron_layer(X, n_hidden1, name=\"hidden1\",activation=tf.nn.relu)\n",
        "  hidden2 = neuron_layer(hidden1, n_hidden2, name=\"hidden2\",activation=tf.nn.relu)\n",
        "  logits = neuron_layer(hidden2, n_output, name=\"outputs\")\n",
        "  \n",
        "with tf.name_scope(\"loss\"):\n",
        "  xentropy = tf.nn.sparse_softmax_cross_entropy_with_logits(labels=y,logits=logits)\n",
        "  loss = tf.reduce_mean(xentropy, name=\"loss\")\n",
        "\n",
        "learning_rate = 0.01\n",
        "\n",
        "with tf.name_scope(\"train\"):\n",
        "  optimizer = tf.train.GradientDescentOptimizer(learning_rate)\n",
        "  training_op = optimizer.minimize(loss)\n",
        "\n",
        "  \n",
        "with tf.name_scope(\"eval\"):\n",
        "  correct = tf.nn.in_top_k(logits, y, 1)\n",
        "  accuracy = tf.reduce_mean(tf.cast(correct, tf.float32))\n",
        "\n",
        "  \n",
        "init = tf.global_variables_initializer()\n",
        "saver = tf.train.Saver()"
      ],
      "execution_count": 0,
      "outputs": []
    },
    {
      "cell_type": "code",
      "metadata": {
        "id": "akSsNrN-4iBA",
        "colab_type": "code",
        "colab": {
          "base_uri": "https://localhost:8080/",
          "height": 1237
        },
        "outputId": "6536fabb-07d8-4144-f66e-3852c0d1a03d"
      },
      "source": [
        "from tensorflow.examples.tutorials.mnist import input_data\n",
        "mnist = input_data.read_data_sets(\"/tmp/data/\")\n",
        "\n",
        "n_epochs = 40\n",
        "batch_size = 50\n",
        "\n",
        "with tf.Session() as sess:\n",
        "  init.run()\n",
        "  for epoch in range(n_epochs):\n",
        "    for iteration in range(mnist.train.num_examples // batch_size):\n",
        "      X_batch, y_batch = mnist.train.next_batch(batch_size)\n",
        "      sess.run(training_op, feed_dict={X: X_batch, y: y_batch})\n",
        "    acc_train = accuracy.eval(feed_dict={X: X_batch, y: y_batch})\n",
        "    acc_test = accuracy.eval(feed_dict={X: mnist.test.images,\n",
        "    y: mnist.test.labels})\n",
        "    print(epoch, \"Train accuracy:\", acc_train, \"Test accuracy:\", acc_test)\n",
        "  save_path = saver.save(sess, \"./my_model_final.ckpt\")\n",
        "  "
      ],
      "execution_count": 30,
      "outputs": [
        {
          "output_type": "stream",
          "text": [
            "WARNING:tensorflow:From <ipython-input-30-efe2b779719c>:2: read_data_sets (from tensorflow.contrib.learn.python.learn.datasets.mnist) is deprecated and will be removed in a future version.\n",
            "Instructions for updating:\n",
            "Please use alternatives such as official/mnist/dataset.py from tensorflow/models.\n",
            "WARNING:tensorflow:From /usr/local/lib/python3.6/dist-packages/tensorflow/contrib/learn/python/learn/datasets/mnist.py:260: maybe_download (from tensorflow.contrib.learn.python.learn.datasets.base) is deprecated and will be removed in a future version.\n",
            "Instructions for updating:\n",
            "Please write your own downloading logic.\n",
            "WARNING:tensorflow:From /usr/local/lib/python3.6/dist-packages/tensorflow/contrib/learn/python/learn/datasets/base.py:252: _internal_retry.<locals>.wrap.<locals>.wrapped_fn (from tensorflow.contrib.learn.python.learn.datasets.base) is deprecated and will be removed in a future version.\n",
            "Instructions for updating:\n",
            "Please use urllib or similar directly.\n",
            "Successfully downloaded train-images-idx3-ubyte.gz 9912422 bytes.\n",
            "WARNING:tensorflow:From /usr/local/lib/python3.6/dist-packages/tensorflow/contrib/learn/python/learn/datasets/mnist.py:262: extract_images (from tensorflow.contrib.learn.python.learn.datasets.mnist) is deprecated and will be removed in a future version.\n",
            "Instructions for updating:\n",
            "Please use tf.data to implement this functionality.\n",
            "Extracting /tmp/data/train-images-idx3-ubyte.gz\n",
            "Successfully downloaded train-labels-idx1-ubyte.gz 28881 bytes.\n",
            "WARNING:tensorflow:From /usr/local/lib/python3.6/dist-packages/tensorflow/contrib/learn/python/learn/datasets/mnist.py:267: extract_labels (from tensorflow.contrib.learn.python.learn.datasets.mnist) is deprecated and will be removed in a future version.\n",
            "Instructions for updating:\n",
            "Please use tf.data to implement this functionality.\n",
            "Extracting /tmp/data/train-labels-idx1-ubyte.gz\n",
            "Successfully downloaded t10k-images-idx3-ubyte.gz 1648877 bytes.\n",
            "Extracting /tmp/data/t10k-images-idx3-ubyte.gz\n",
            "Successfully downloaded t10k-labels-idx1-ubyte.gz 4542 bytes.\n",
            "Extracting /tmp/data/t10k-labels-idx1-ubyte.gz\n",
            "WARNING:tensorflow:From /usr/local/lib/python3.6/dist-packages/tensorflow/contrib/learn/python/learn/datasets/mnist.py:290: DataSet.__init__ (from tensorflow.contrib.learn.python.learn.datasets.mnist) is deprecated and will be removed in a future version.\n",
            "Instructions for updating:\n",
            "Please use alternatives such as official/mnist/dataset.py from tensorflow/models.\n",
            "0 Train accuracy: 0.92 Test accuracy: 0.9135\n",
            "1 Train accuracy: 0.9 Test accuracy: 0.9313\n",
            "2 Train accuracy: 0.98 Test accuracy: 0.9401\n",
            "3 Train accuracy: 0.92 Test accuracy: 0.944\n",
            "4 Train accuracy: 0.98 Test accuracy: 0.9513\n",
            "5 Train accuracy: 1.0 Test accuracy: 0.9537\n",
            "6 Train accuracy: 0.98 Test accuracy: 0.9571\n",
            "7 Train accuracy: 1.0 Test accuracy: 0.9609\n",
            "8 Train accuracy: 0.98 Test accuracy: 0.9642\n",
            "9 Train accuracy: 0.98 Test accuracy: 0.9657\n",
            "10 Train accuracy: 1.0 Test accuracy: 0.9661\n",
            "11 Train accuracy: 0.98 Test accuracy: 0.9684\n",
            "12 Train accuracy: 0.96 Test accuracy: 0.9698\n",
            "13 Train accuracy: 1.0 Test accuracy: 0.9709\n",
            "14 Train accuracy: 0.98 Test accuracy: 0.9701\n",
            "15 Train accuracy: 0.98 Test accuracy: 0.9712\n",
            "16 Train accuracy: 1.0 Test accuracy: 0.974\n",
            "17 Train accuracy: 0.98 Test accuracy: 0.9744\n",
            "18 Train accuracy: 1.0 Test accuracy: 0.975\n",
            "19 Train accuracy: 1.0 Test accuracy: 0.9751\n",
            "20 Train accuracy: 0.96 Test accuracy: 0.9752\n",
            "21 Train accuracy: 1.0 Test accuracy: 0.9754\n",
            "22 Train accuracy: 0.98 Test accuracy: 0.9746\n",
            "23 Train accuracy: 1.0 Test accuracy: 0.975\n",
            "24 Train accuracy: 0.98 Test accuracy: 0.9749\n",
            "25 Train accuracy: 1.0 Test accuracy: 0.9758\n",
            "26 Train accuracy: 0.98 Test accuracy: 0.9759\n",
            "27 Train accuracy: 1.0 Test accuracy: 0.9761\n",
            "28 Train accuracy: 1.0 Test accuracy: 0.9757\n",
            "29 Train accuracy: 0.98 Test accuracy: 0.9772\n",
            "30 Train accuracy: 1.0 Test accuracy: 0.9768\n",
            "31 Train accuracy: 1.0 Test accuracy: 0.9769\n",
            "32 Train accuracy: 1.0 Test accuracy: 0.9776\n",
            "33 Train accuracy: 1.0 Test accuracy: 0.9775\n",
            "34 Train accuracy: 0.98 Test accuracy: 0.9777\n",
            "35 Train accuracy: 1.0 Test accuracy: 0.9769\n",
            "36 Train accuracy: 1.0 Test accuracy: 0.9771\n",
            "37 Train accuracy: 1.0 Test accuracy: 0.9778\n",
            "38 Train accuracy: 1.0 Test accuracy: 0.9776\n",
            "39 Train accuracy: 1.0 Test accuracy: 0.9772\n"
          ],
          "name": "stdout"
        }
      ]
    },
    {
      "cell_type": "markdown",
      "metadata": {
        "id": "melPUGRfLhbg",
        "colab_type": "text"
      },
      "source": [
        "In 40 epochs we were able to achive a test accuracy of 97.72%!\n"
      ]
    }
  ]
}